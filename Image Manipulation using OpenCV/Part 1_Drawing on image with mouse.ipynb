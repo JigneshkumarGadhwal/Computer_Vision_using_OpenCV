{
 "cells": [
  {
   "cell_type": "markdown",
   "metadata": {},
   "source": [
    "# This topic has 3 parts:\n",
    "\n",
    "## 1. Connecting CallBack Functions\n",
    "## 2. Adding Functionality through Event Choices\n",
    "## 3. Dragging the Mouse for Functionality"
   ]
  },
  {
   "cell_type": "code",
   "execution_count": null,
   "metadata": {},
   "outputs": [],
   "source": []
  },
  {
   "cell_type": "markdown",
   "metadata": {},
   "source": [
    "# 1. Connecting CallBack Functions\n",
    "\n",
    "## We can use CallBacks to connect images to event functions with OpenCV. This allows us to directly interact with images and videos."
   ]
  },
  {
   "cell_type": "markdown",
   "metadata": {},
   "source": [
    "It is recommanded to run everything in the single cell or a single script."
   ]
  },
  {
   "cell_type": "code",
   "execution_count": 1,
   "metadata": {},
   "outputs": [],
   "source": [
    "import cv2\n",
    "import numpy as np\n",
    "\n",
    "\n",
    "################\n",
    "## FUNCTION ####\n",
    "################\n",
    "\n",
    "def draw_circle(event,x,y,flags,param):\n",
    "\n",
    "## The event is just a left button click down    #press tab and explore the available options\n",
    "                                          # it means, exacty when we press left button, its going to do something...\n",
    "    \n",
    "    if event == cv2.EVENT_LBUTTONDOWN:    # (x,y) center of the circle\n",
    "        cv2.circle(img,center=(x,y),radius=100,color=(0,255,0),thickness=-1)\n",
    "\n",
    "\n",
    "# now comes time to actually connect this function to the image callback, for that we just do the following...\n",
    "\n",
    "cv2.namedWindow(winname='my_drawing')\n",
    "\n",
    "# and then we connect it to the callback\n",
    "\n",
    "cv2.setMouseCallback('my_drawing',draw_circle)\n",
    "\n",
    "\n",
    "# so this is how we connect the function(draw_circle) to the image showing in the window(my_drawing)\n",
    "\n",
    "# So, how do we actually interact with this function?\n",
    "\n",
    "# we pass in these parameters : event,x,y,flags,param   ( lot of these are passed in and called when we pass in .setMoueCallback x,y)\n",
    "# event --> what actually mouse did: did it do the right click or left click etc\n",
    "#flags, params: these are passed back when there is additional parameters or there is any warning flag necessary.\n",
    "\n",
    "\n",
    "\n",
    "\n",
    "\n",
    "###############################\n",
    "## SHOWING IMAGE WITH OPENCV ##\n",
    "###############################\n",
    "\n",
    "img = np.zeros((512,512,3),np.int8)    # since we are using int8, image would look a little bit gray..if we remove that, the image beomes black...\n",
    "\n",
    "while True:\n",
    "    cv2.imshow('my_drawing',img)\n",
    "    if cv2.waitKey(20) & 0xFF == 27:\n",
    "        break\n",
    "        \n",
    "cv2.destroyAllWindows()\n",
    "\n",
    "# up to this part, nothing is new, we have already done this before in \"Open images with openCV notes\"\n",
    "\n",
    "# new part is, connecting a function to the image(img) used here...and the way it is connected through the name of this actual window(my_drawing).\n",
    "\n"
   ]
  },
  {
   "cell_type": "code",
   "execution_count": null,
   "metadata": {},
   "outputs": [],
   "source": []
  },
  {
   "cell_type": "code",
   "execution_count": null,
   "metadata": {},
   "outputs": [],
   "source": []
  },
  {
   "cell_type": "code",
   "execution_count": null,
   "metadata": {},
   "outputs": [],
   "source": []
  },
  {
   "cell_type": "code",
   "execution_count": null,
   "metadata": {},
   "outputs": [],
   "source": []
  },
  {
   "cell_type": "code",
   "execution_count": null,
   "metadata": {},
   "outputs": [],
   "source": []
  },
  {
   "cell_type": "code",
   "execution_count": null,
   "metadata": {},
   "outputs": [],
   "source": []
  },
  {
   "cell_type": "code",
   "execution_count": null,
   "metadata": {},
   "outputs": [],
   "source": []
  },
  {
   "cell_type": "code",
   "execution_count": null,
   "metadata": {},
   "outputs": [],
   "source": []
  },
  {
   "cell_type": "code",
   "execution_count": null,
   "metadata": {},
   "outputs": [],
   "source": []
  },
  {
   "cell_type": "code",
   "execution_count": null,
   "metadata": {},
   "outputs": [],
   "source": []
  },
  {
   "cell_type": "code",
   "execution_count": null,
   "metadata": {},
   "outputs": [],
   "source": []
  },
  {
   "cell_type": "code",
   "execution_count": null,
   "metadata": {},
   "outputs": [],
   "source": []
  },
  {
   "cell_type": "code",
   "execution_count": null,
   "metadata": {},
   "outputs": [],
   "source": []
  },
  {
   "cell_type": "code",
   "execution_count": null,
   "metadata": {},
   "outputs": [],
   "source": []
  },
  {
   "cell_type": "code",
   "execution_count": null,
   "metadata": {},
   "outputs": [],
   "source": []
  }
 ],
 "metadata": {
  "kernelspec": {
   "display_name": "Python 3",
   "language": "python",
   "name": "python3"
  },
  "language_info": {
   "codemirror_mode": {
    "name": "ipython",
    "version": 3
   },
   "file_extension": ".py",
   "mimetype": "text/x-python",
   "name": "python",
   "nbconvert_exporter": "python",
   "pygments_lexer": "ipython3",
   "version": "3.6.6"
  }
 },
 "nbformat": 4,
 "nbformat_minor": 2
}
