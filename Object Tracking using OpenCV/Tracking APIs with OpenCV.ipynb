{
 "cells": [
  {
   "cell_type": "markdown",
   "metadata": {},
   "source": [
    "# Tracking APIs (Built-in with OpenCV)"
   ]
  },
  {
   "cell_type": "code",
   "execution_count": null,
   "metadata": {},
   "outputs": [],
   "source": [
    "import cv2"
   ]
  },
  {
   "cell_type": "code",
   "execution_count": null,
   "metadata": {},
   "outputs": [],
   "source": [
    "def ask_for_tracker():\n",
    "    print(\"Welcome! What Tracker API would you like to use?\")\n",
    "    print(\"Enter 0 for BOOSTING: \")\n",
    "    print(\"Enter 1 for MIL ( Multiple Instance Learning ): \")\n",
    "    print(\"Enter 2 for KCF ( Kernalized Correlation Filters ): \")\n",
    "    print(\"Enter 3 for TLD ( Tracking, Learning, and Detection ): \")\n",
    "    print(\"Enter 4 for MEDIANFLOW: \")\n",
    "    choice = input(\"Please select your tracker: \")\n",
    "    \n",
    "    if choice == '0':\n",
    "        tracker = cv2.TrackerBoosting_create()\n",
    "    if choice == '1':\n",
    "        tracker = cv2.TrackerMIL_create()\n",
    "    if choice == '2':\n",
    "        tracker = cv2.TrackerKCF_create()\n",
    "    if choice == '3':\n",
    "        tracker = cv2.TrackerTLD_create()\n",
    "    if choice == '4':\n",
    "        tracker = cv2.TrackerMedianFlow_create()\n",
    "        \n",
    "    return tracker\n",
    "        "
   ]
  },
  {
   "cell_type": "markdown",
   "metadata": {},
   "source": [
    "Try running the following cells to see what each object is doing for better understanding.(Optional)"
   ]
  },
  {
   "cell_type": "code",
   "execution_count": null,
   "metadata": {},
   "outputs": [],
   "source": [
    "# tracker = ask_for_tracker()"
   ]
  },
  {
   "cell_type": "code",
   "execution_count": null,
   "metadata": {},
   "outputs": [],
   "source": [
    "# tracker  "
   ]
  },
  {
   "cell_type": "code",
   "execution_count": null,
   "metadata": {},
   "outputs": [],
   "source": [
    "# str(tracker).split()[0][1:]   # This would take the name (TrackerMedianFlow) from the tracker <TrackerMedianFlow 000002FA22494AD0>\n",
    "\n",
    "# We actually want to print the name of the Tracker on our cv2 window..."
   ]
  },
  {
   "cell_type": "markdown",
   "metadata": {},
   "source": [
    "So now , how do we actually use this tracking APIs:"
   ]
  },
  {
   "cell_type": "code",
   "execution_count": null,
   "metadata": {
    "scrolled": true
   },
   "outputs": [],
   "source": [
    "tracker = ask_for_tracker()\n",
    "tracker_name = str(tracker).split()[0][1:]\n",
    "\n",
    "# Read the Video\n",
    "cap = cv2.VideoCapture(0)\n",
    "\n",
    "# Read first frame\n",
    "ret,frame = cap.read()\n",
    "\n",
    "# now this special function called cv2.selectROI allows us to draw our desired ROI, on the very first frame of the video.\n",
    "roi = cv2.selectROI(frame,False)\n",
    "\n",
    "# Initializing the tracker with the first frame and bounding box\n",
    "ret = tracker.init(frame,roi)\n",
    "\n",
    "\n",
    "# now, in a while loop , we are gonna keep reading new frame and update the tracker and relocate the ROI accordingly\n",
    "# throughout the video.\n",
    "\n",
    "while True:\n",
    "    # Read a new frame\n",
    "    ret,frame = cap.read()\n",
    "    \n",
    "    # update the tracker:\n",
    "     \n",
    "    # its gonna locate the new region of interest, that we can draw a rectangle around it,\n",
    "    # and it also gonna tell us that it successfully performed it or not. \n",
    "    # if the object goes out of the frame, the success becomes False.\n",
    "    success,roi = tracker.update(frame)\n",
    "    \n",
    "    \n",
    "    # roi variable is a tuple of 4 floating point values.\n",
    "    # We need each value and we need them as integers.\n",
    "    (x,y,w,h) = tuple(map(int,roi))\n",
    "    \n",
    "    \n",
    "    # Draw Rectangle as Tracker moves:\n",
    "    if success:\n",
    "        # Tracking success\n",
    "        p1 = (x,y)\n",
    "        p2 = (x+w,y+h)\n",
    "        cv2.rectangle(frame,p1,p2,(0,255,0),3)\n",
    "    else:\n",
    "        #Tracking failure\n",
    "        cv2.putText(frame,\"Failure to Detect Tracking!!\",(100,200),cv2.FONT_HERSHEY_SIMPLEX,1)\n",
    "        \n",
    "    # now to display the tracker type name on the cv2 window (output window)\n",
    "    cv2.putText(frame,tracker_name,(20,400),cv2.FONT_HERSHEY_SIMPLEX,1,(0,255,0),3)\n",
    "    \n",
    "\n",
    "    # Display the results\n",
    "    cv2.imshow(tracker_name,frame)\n",
    "    \n",
    "    k = cv2.waitKey(1) & 0xFF\n",
    "    if k == 27:\n",
    "        break\n",
    "    \n",
    "cap.release()\n",
    "cv2.destroyAllWindows()\n",
    "    \n",
    "    \n"
   ]
  },
  {
   "cell_type": "code",
   "execution_count": null,
   "metadata": {},
   "outputs": [],
   "source": []
  },
  {
   "cell_type": "code",
   "execution_count": null,
   "metadata": {},
   "outputs": [],
   "source": []
  },
  {
   "cell_type": "code",
   "execution_count": null,
   "metadata": {},
   "outputs": [],
   "source": []
  },
  {
   "cell_type": "code",
   "execution_count": null,
   "metadata": {},
   "outputs": [],
   "source": []
  },
  {
   "cell_type": "code",
   "execution_count": null,
   "metadata": {},
   "outputs": [],
   "source": []
  },
  {
   "cell_type": "code",
   "execution_count": null,
   "metadata": {},
   "outputs": [],
   "source": []
  },
  {
   "cell_type": "code",
   "execution_count": null,
   "metadata": {},
   "outputs": [],
   "source": []
  },
  {
   "cell_type": "code",
   "execution_count": null,
   "metadata": {},
   "outputs": [],
   "source": []
  },
  {
   "cell_type": "code",
   "execution_count": null,
   "metadata": {},
   "outputs": [],
   "source": []
  },
  {
   "cell_type": "code",
   "execution_count": null,
   "metadata": {},
   "outputs": [],
   "source": []
  }
 ],
 "metadata": {
  "kernelspec": {
   "display_name": "Python 3",
   "language": "python",
   "name": "python3"
  },
  "language_info": {
   "codemirror_mode": {
    "name": "ipython",
    "version": 3
   },
   "file_extension": ".py",
   "mimetype": "text/x-python",
   "name": "python",
   "nbconvert_exporter": "python",
   "pygments_lexer": "ipython3",
   "version": "3.6.6"
  }
 },
 "nbformat": 4,
 "nbformat_minor": 2
}
