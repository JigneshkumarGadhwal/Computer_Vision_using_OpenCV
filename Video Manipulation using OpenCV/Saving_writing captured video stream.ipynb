{
 "cells": [
  {
   "cell_type": "markdown",
   "metadata": {},
   "source": [
    "## In order to write our captured stream to a video file, we actually need to add 3 lines in the original code...\n",
    "\n",
    "https://docs.opencv.org/4.x/dd/d43/tutorial_py_video_display.html\n",
    "\n",
    "## Adding Video Writer:\n",
    "\n",
    "1. create a writer object. as first parameter, we can provide file_path/file_name\n",
    "2. cv2.VideoWriter_fourcc this is actually the video codec which we are gonna be using... to write this mp4 file.\n",
    "\n",
    "In Windows: *'DIVX' (More to be tested and added)\n",
    "In MacOS or Linux -- *'XVID'\n",
    "FourCC code is passed as ‘cv.VideoWriter_fourcc('M’,'J','P','G')or cv.VideoWriter_fourcc(*'MJPG')` for MJPG.\n",
    "\n",
    "3. the next parameter is : How many frames per sec we want to record at: mostly webcams gives about 20-30 frames pers secs. the more frames the larger the data file\n",
    "\n",
    "4. and the next parameter we provide is width and height which we have already captured.. :)\n",
    "\n",
    "## writer.write(frame):\n",
    "\n",
    "#### now the next thing we do is, in the while loop, when we are reading in the frames,\n",
    "#### we are gonna write those frame into the mp4 file which we have created.\n",
    "basically we are adding frame by frame continuously adding to this mp4 file.\n",
    "\n",
    "## writer.release():\n",
    "\n",
    "### Now once we read and write the file in, and we break out of the while True loop, after we release the capture(cap) ... we release the writer as well.\n"
   ]
  },
  {
   "cell_type": "code",
   "execution_count": 3,
   "metadata": {},
   "outputs": [],
   "source": [
    "import cv2\n",
    "\n",
    "cap = cv2.VideoCapture(0)    # this command is gonna get our default camera...\n",
    "\n",
    "# We actually want some width and height of an actual capture camera... to manipulate the video image...\n",
    "\n",
    "width = int(cap.get(cv2.CAP_PROP_FRAME_WIDTH))  # This actually returns a floating point number, eg- 1080.0 , int() we can cast it to int.\n",
    "height = int(cap.get(cv2.CAP_PROP_FRAME_HEIGHT))\n",
    "\n",
    "writer = cv2.VideoWriter('myfirstwebcam.mp4',cv2.VideoWriter_fourcc(*'DIVX'),20,(width,height))\n",
    "\n",
    "while True:\n",
    "    \n",
    "    ret,frame = cap.read()  # this basically returns back tuple , that is why we are using tuple unpacking.\n",
    "    \n",
    "    # Operation (Drawing)\n",
    "    writer.write(frame)\n",
    "    \n",
    "    \n",
    "    # How we can convert a frame in to gray scale...\n",
    "#     gray = cv2.cvtColor(frame,cv2.COLOR_BGR2GRAY)\n",
    "    \n",
    "    cv2.imshow('frame',frame)\n",
    "    \n",
    "    # and finally we are gonna wait untill someone hit the esc key...\n",
    "    if cv2.waitKey(1) & 0xFF == ord('q'):  # we can use esc also...this time we use any key on the keyboard to esc sequence\n",
    "        break\n",
    "        \n",
    "cap.release()  \n",
    "writer.release()\n",
    "cv2.destroyAllWindows()   # before destroying we need to make sure that we stop capturing the video,cap.release()"
   ]
  },
  {
   "cell_type": "code",
   "execution_count": null,
   "metadata": {},
   "outputs": [],
   "source": []
  },
  {
   "cell_type": "code",
   "execution_count": null,
   "metadata": {},
   "outputs": [],
   "source": []
  }
 ],
 "metadata": {
  "kernelspec": {
   "display_name": "Python 3",
   "language": "python",
   "name": "python3"
  },
  "language_info": {
   "codemirror_mode": {
    "name": "ipython",
    "version": 3
   },
   "file_extension": ".py",
   "mimetype": "text/x-python",
   "name": "python",
   "nbconvert_exporter": "python",
   "pygments_lexer": "ipython3",
   "version": "3.6.6"
  }
 },
 "nbformat": 4,
 "nbformat_minor": 2
}
