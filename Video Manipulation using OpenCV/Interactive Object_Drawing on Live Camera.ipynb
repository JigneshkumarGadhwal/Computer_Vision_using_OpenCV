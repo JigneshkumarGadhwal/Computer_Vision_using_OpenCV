{
 "cells": [
  {
   "cell_type": "markdown",
   "metadata": {},
   "source": [
    "# Interactive Object_Drawing on Live Camera:"
   ]
  },
  {
   "cell_type": "markdown",
   "metadata": {},
   "source": [
    "We are going to delete some lines of codes, such as we are now not drawing based on the height and width anymore...\n",
    "    So first we are going to define the call back function: this is going to be drawing a rectangle. \n",
    "    and also some Global variables...\n",
    "    \n",
    "    \n",
    "    DRAWING ON THE FRAMES BASED OFF THE GLOBAL VARIABLES and use the call back funciton toa cually update the global variables\n",
    "    \n",
    "    \n",
    "    After this , we need to define how we would change tehe point 1 and point 2 , and also top left and bottom right corner...\n",
    "    \n",
    "    "
   ]
  },
  {
   "cell_type": "code",
   "execution_count": 1,
   "metadata": {},
   "outputs": [],
   "source": [
    "import cv2\n",
    "\n",
    "## CALLBACK FUNCTION RECTANGLE\n",
    "def draw_rectangle(event,x,y,flags,param):\n",
    "    \n",
    "    global pt1,pt2,topLeft_clicked,bottomRight_clicked\n",
    "    \n",
    "    if   event == cv2.EVENT_LBUTTONDOWN:\n",
    "        \n",
    "        #RESET the Rectangle\n",
    "        if topLeft_clicked == True and bottomRight_clicked == True:\n",
    "            pt1 = (0,0)\n",
    "            pt2 = (0,0)\n",
    "            topLeft_clicked = False \n",
    "            bottomRight_clicked = False\n",
    "            \n",
    "        # lets say if we have not clicked anything yet    \n",
    "        if topLeft_clicked == False:\n",
    "            pt1 = (x,y)\n",
    "            topLeft_clicked = True   # notice the difference == and =  / we are assigning Topleft now true.\n",
    "            # since top left is true, we can draw a circle at pt1 as center and go ahead\n",
    "            \n",
    "        # but if we clicked top left but haven't clicked bottom right:\n",
    "        elif bottomRight_clicked == False:\n",
    "            pt2 = (x,y)\n",
    "            bottomRight_clicked = True\n",
    "        \n",
    "        \n",
    "\n",
    "## GLOBAL VARIABLES\n",
    "pt1 = (0,0)  # pt1 is top left \n",
    "pt2 = (0,0)  #pt2 is bottom right\n",
    "\n",
    "# trackers:\n",
    "topLeft_clicked = False      # whether or not i clicked the point that i intended to be the top left\n",
    "bottomRight_clicked = False  ## whether or not i clicked the point that i intended to be the bottom right\n",
    "                              # and as those clicked, we would update the point 1 and 2\n",
    "\n",
    "## CONNECT TO THE CALLBACK\n",
    "\n",
    "cap = cv2.VideoCapture(0)   # just placed here for organising everything clear...\\\n",
    "\n",
    "cv2.namedWindow('Test')\n",
    "cv2.setMouseCallback('Test',draw_rectangle)\n",
    "\n",
    "\n",
    "while True:\n",
    "    \n",
    "    ret,frame = cap.read()\n",
    "    \n",
    "    ## DRAWING ON THE FRAMES BASED OFF THE GLOBAL VARIABLES\n",
    "    if topLeft_clicked:           #it means -- if topLeft_clicked == True:\n",
    "        cv2.circle(frame,center=pt1,radius = 5,color=(0,0,255),thickness = -1)               # this circle would just keep track of where we are, just a marker...\n",
    "    \n",
    "    if topLeft_clicked and bottomRight_clicked:\n",
    "        cv2.rectangle(frame,pt1,pt2,(0,0,255),3)\n",
    "    \n",
    "    cv2.imshow('Test',frame)\n",
    "    \n",
    "    if cv2.waitKey(1) & 0xFF == ord('q'):\n",
    "        break\n",
    "        \n",
    "cap.release()\n",
    "cv2.destroyAllWindows()\n",
    "\n",
    "\n"
   ]
  },
  {
   "cell_type": "code",
   "execution_count": null,
   "metadata": {},
   "outputs": [],
   "source": []
  }
 ],
 "metadata": {
  "kernelspec": {
   "display_name": "Python 3",
   "language": "python",
   "name": "python3"
  },
  "language_info": {
   "codemirror_mode": {
    "name": "ipython",
    "version": 3
   },
   "file_extension": ".py",
   "mimetype": "text/x-python",
   "name": "python",
   "nbconvert_exporter": "python",
   "pygments_lexer": "ipython3",
   "version": "3.6.6"
  }
 },
 "nbformat": 4,
 "nbformat_minor": 2
}
