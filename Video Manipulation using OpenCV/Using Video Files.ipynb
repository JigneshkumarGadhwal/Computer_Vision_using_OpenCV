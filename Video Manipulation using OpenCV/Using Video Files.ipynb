{
 "cells": [
  {
   "cell_type": "markdown",
   "metadata": {},
   "source": [
    "# Using Video files with OpenCV"
   ]
  },
  {
   "cell_type": "code",
   "execution_count": 1,
   "metadata": {},
   "outputs": [],
   "source": [
    "import cv2\n",
    "import time\n",
    "\n",
    "# in order to use the video files, instead of Videocapture(0), we provide file path instead of 0\n",
    "cap = cv2.VideoCapture('C:\\\\Users\\\\JERRY\\\\Downloads\\\\Computer-Vision-with-Python\\\\My Notes\\\\myfirstwebcam.mp4')\n",
    "\n",
    "# sometimes we accidently provide file path that doesnot exist, and OpenCV is flexible and return an empty object.\n",
    "# sometimes because of the wrong provided codec, this issue persists...\n",
    "# To avoid such issues...\n",
    "\n",
    "if cap.isOpened() == False:   # which means if OpenCV couldnot open up the file..in that case...\n",
    "    print(\"Error, file not found! or Wrong Codec provided!\")\n",
    "    \n",
    "# if above case is not triggered, we are good to go ahead...\n",
    "\n",
    "while cap.isOpened():  # meaning while the video is actually playing...\n",
    "    \n",
    "    ret,frame = cap.read()\n",
    "#     fps = cap.get(cv2.CAP_PROP_FPS)\n",
    "    \n",
    "    # if it actually returning something which means the video is still playing..\n",
    "    # we can go ahead and show those frame...\n",
    "    if ret == True:\n",
    "        \n",
    "#         print(\"Frame rate (FPS):\", fps)  This video has a FPS of 20 frames per sec.\n",
    "#         \n",
    "        time.sleep(1/20)\n",
    "        cv2.imshow('frame',frame)\n",
    "        \n",
    "        \n",
    "        if cv2.waitKey(10) & 0xFF == ord('q'):\n",
    "            break\n",
    "    else:                # basically this says is, while the cap.isOpened is working, keep reading the frames, and\n",
    "        break            # while you still returning frames, show the frames and if we want we can break out of it.\n",
    "                         # But if you are not returinig anything ret == False, come out of this loop and break.\n",
    "            \n",
    "cap.release()\n",
    "cv2.destroyAllWindows()\n",
    "        \n"
   ]
  },
  {
   "cell_type": "markdown",
   "metadata": {},
   "source": [
    "## We can notice that when we run the code, The Video Playback is very fast...because Videocapture() directly pointed towards some video,\n",
    "\n",
    "### its not actually meant to display the video for human user,it meant to quickly read in every single frame and do somthing with it.\n",
    "\n",
    "### and that make sense because computer can watch the video much faster than a human can...\n",
    "### and thats necessary, becasue when we actually need to write or manipulate video, we dont need to wait for a hour for a hour long video..."
   ]
  },
  {
   "cell_type": "code",
   "execution_count": null,
   "metadata": {},
   "outputs": [],
   "source": []
  },
  {
   "cell_type": "markdown",
   "metadata": {},
   "source": [
    "# But if we do want to play the video at the original speed of the video playback speed... we need to add in 2 extra lines of code.\n",
    "\n",
    "import time\n",
    "\n",
    "and every time we show the frame, we want to show at the same frame rate at what its recorded...\n",
    "for that we put a time sleep of 1/FPS of the video to see the video in actual playback speed.\n",
    "\n",
    "### Again this is only useful if you yourself want to see the videos, if you trying to do an operations on the video, and no intention of watching it, we dont need to time sleep the frames before showing."
   ]
  },
  {
   "cell_type": "code",
   "execution_count": null,
   "metadata": {},
   "outputs": [],
   "source": []
  },
  {
   "cell_type": "code",
   "execution_count": null,
   "metadata": {},
   "outputs": [],
   "source": []
  },
  {
   "cell_type": "code",
   "execution_count": null,
   "metadata": {},
   "outputs": [],
   "source": []
  },
  {
   "cell_type": "code",
   "execution_count": null,
   "metadata": {},
   "outputs": [],
   "source": []
  },
  {
   "cell_type": "code",
   "execution_count": null,
   "metadata": {},
   "outputs": [],
   "source": []
  },
  {
   "cell_type": "code",
   "execution_count": null,
   "metadata": {},
   "outputs": [],
   "source": []
  }
 ],
 "metadata": {
  "kernelspec": {
   "display_name": "Python 3",
   "language": "python",
   "name": "python3"
  },
  "language_info": {
   "codemirror_mode": {
    "name": "ipython",
    "version": 3
   },
   "file_extension": ".py",
   "mimetype": "text/x-python",
   "name": "python",
   "nbconvert_exporter": "python",
   "pygments_lexer": "ipython3",
   "version": "3.6.6"
  }
 },
 "nbformat": 4,
 "nbformat_minor": 2
}
